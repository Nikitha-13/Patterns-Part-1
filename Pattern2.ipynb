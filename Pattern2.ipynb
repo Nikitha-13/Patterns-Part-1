{
 "cells": [
  {
   "cell_type": "code",
   "execution_count": 1,
   "metadata": {},
   "outputs": [
    {
     "name": "stdout",
     "output_type": "stream",
     "text": [
      "*\n",
      "***\n",
      "*\n"
     ]
    }
   ],
   "source": [
    "def pattern(row):\n",
    "    for i in range(1, row + 1, 2):\n",
    "        print('*' * i)\n",
    "    for i in range(row -2, 0, -2):\n",
    "        print('*' * i)\n",
    "    \n",
    "num_rows = 3\n",
    "pattern(num_rows)"
   ]
  },
  {
   "cell_type": "code",
   "execution_count": 1,
   "metadata": {},
   "outputs": [
    {
     "name": "stdout",
     "output_type": "stream",
     "text": [
      "*\n",
      "***\n",
      "*\n"
     ]
    }
   ],
   "source": [
    "def pattern(row):\n",
    "    for i in range(1, row * 2, 2):\n",
    "        print('*' * min(i, row * 2 -i))\n",
    "\n",
    "num_rows = 3\n",
    "pattern(num_rows)"
   ]
  }
 ],
 "metadata": {
  "kernelspec": {
   "display_name": "Python 3",
   "language": "python",
   "name": "python3"
  },
  "language_info": {
   "codemirror_mode": {
    "name": "ipython",
    "version": 3
   },
   "file_extension": ".py",
   "mimetype": "text/x-python",
   "name": "python",
   "nbconvert_exporter": "python",
   "pygments_lexer": "ipython3",
   "version": "3.7.8"
  },
  "orig_nbformat": 4
 },
 "nbformat": 4,
 "nbformat_minor": 2
}
